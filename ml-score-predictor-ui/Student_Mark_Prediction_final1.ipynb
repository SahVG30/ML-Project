{
    "cells": [
        {
            "cell_type": "code",
            "metadata": {
                "id": "afd21c4d",
                "language": "python"
            },
            "source": [
                "import numpy as np",
                "import pandas as pd",
                "import matplotlib.pyplot as plt",
                "import seaborn as sns",
                "from sklearn.linear_model import LinearRegression, Ridge, Lasso",
                "from sklearn.model_selection import train_test_split, GridSearchCV, RandomizedSearchCV, cross_val_score",
                "from sklearn.metrics import mean_squared_error",
                "from sklearn.metrics import r2_score",
                "from sklearn.metrics import mean_absolute_error",
                "from sklearn.feature_selection import RFECV",
                ""
            ]
        },
        {
            "cell_type": "code",
            "metadata": {
                "id": "41c43f82",
                "language": "python"
            },
            "source": [
                "data = pd.read_csv(\"/content/Student_Performance.csv\")"
            ]
        },
        {
            "cell_type": "code",
            "metadata": {
                "id": "83785f97",
                "language": "python"
            },
            "source": [
                "data.head()"
            ]
        },
        {
            "cell_type": "code",
            "metadata": {
                "id": "f730303e",
                "language": "python"
            },
            "source": [
                "data.head()"
            ]
        },
        {
            "cell_type": "code",
            "metadata": {
                "id": "86510d08",
                "language": "python"
            },
            "source": [
                "new_data = pd.get_dummies(data, drop_first=True)"
            ]
        },
        {
            "cell_type": "code",
            "metadata": {
                "id": "7a5b2536",
                "language": "python"
            },
            "source": [
                "new_data.head()"
            ]
        },
        {
            "cell_type": "code",
            "metadata": {
                "id": "6c471c3c",
                "language": "python"
            },
            "source": [
                "data.isnull().sum()"
            ]
        },
        {
            "cell_type": "code",
            "metadata": {
                "id": "c9d607c0",
                "language": "python"
            },
            "source": [
                "new_data.fillna(new_data.mean(), inplace=True)"
            ]
        },
        {
            "cell_type": "code",
            "metadata": {
                "id": "e72c3df8",
                "language": "python"
            },
            "source": [
                "new_data.head()"
            ]
        },
        {
            "cell_type": "code",
            "metadata": {
                "id": "f0679415",
                "language": "python"
            },
            "source": [
                "print(\"Duplicate row count : \",new_data.duplicated().sum())"
            ]
        },
        {
            "cell_type": "code",
            "metadata": {
                "id": "bb3351d8",
                "language": "python"
            },
            "source": [
                "new_data.drop_duplicates(inplace=True)"
            ]
        },
        {
            "cell_type": "code",
            "metadata": {
                "id": "7a99bec8",
                "language": "python"
            },
            "source": [
                "print(\"Duplicate row count : \",new_data.duplicated().sum())"
            ]
        },
        {
            "cell_type": "code",
            "metadata": {
                "id": "50e37b2f",
                "language": "python"
            },
            "source": [
                "new_data.columns = [\"Study Hours\", \"Previous Score\", \"Sleep Hours\", \"Practiced Sample Paper Count\", \"Score\", \"Extracurricular Activities\"]"
            ]
        },
        {
            "cell_type": "code",
            "metadata": {
                "id": "814c3def",
                "language": "python"
            },
            "source": [
                "independent = new_data.drop(\"Score\", axis=1)",
                "dependent = new_data.iloc[:, 4]"
            ]
        },
        {
            "cell_type": "code",
            "metadata": {
                "id": "a46000c7",
                "language": "python"
            },
            "source": [
                "independent.head()"
            ]
        },
        {
            "cell_type": "code",
            "metadata": {
                "id": "f02a73ef",
                "language": "python"
            },
            "source": [
                "dependent.head()"
            ]
        },
        {
            "cell_type": "code",
            "metadata": {
                "id": "24370380",
                "language": "python"
            },
            "source": [
                "new_data.describe()"
            ]
        },
        {
            "cell_type": "code",
            "metadata": {
                "id": "4aa6019d",
                "language": "python"
            },
            "source": [
                "for columns in independent.columns:",
                "    plt.figure(figsize=(17,10))",
                "    sns.scatterplot(x = columns, y = dependent, data = new_data, hue = \"Previous Score\")",
                "    plt.title(f'Box plot of {columns} by score')",
                "    plt.xlabel(columns)",
                "",
                "    plt.ylabel(\"Score\")",
                "    plt.show()"
            ]
        },
        {
            "cell_type": "code",
            "metadata": {
                "id": "e013c080",
                "language": "python"
            },
            "source": [
                "plt.hist(dependent, bins=10)",
                "plt.xlabel(\"Score\")",
                "plt.ylabel(\"Count\")",
                "plt.show()"
            ]
        },
        {
            "cell_type": "code",
            "metadata": {
                "id": "f1dfb199",
                "language": "python"
            },
            "source": [
                ""
            ]
        },
        {
            "cell_type": "code",
            "metadata": {
                "id": "6abbb6dc",
                "language": "python"
            },
            "source": [
                "x_train, x_test, y_train, y_test = train_test_split(independent, dependent, test_size=0.2, random_state=0)"
            ]
        },
        {
            "cell_type": "code",
            "metadata": {
                "id": "4fd2839a",
                "language": "python"
            },
            "source": [
                "model = LinearRegression()"
            ]
        },
        {
            "cell_type": "code",
            "metadata": {
                "id": "8b4b7512",
                "language": "python"
            },
            "source": [
                "model.fit(x_train, y_train)"
            ]
        },
        {
            "cell_type": "code",
            "metadata": {
                "id": "185427bd",
                "language": "python"
            },
            "source": [
                "y_pred_train = model.predict(x_train)",
                "y_pred_test = model.predict(x_test)"
            ]
        },
        {
            "cell_type": "code",
            "metadata": {
                "id": "aa37a5ce",
                "language": "python"
            },
            "source": [
                "mae_train = mean_absolute_error(y_train, y_pred_train)",
                "mae_test = mean_absolute_error(y_test, y_pred_test)",
                "",
                "mse_train = mean_squared_error(y_train, y_pred_train)",
                "mse_test = mean_squared_error(y_test, y_pred_test)",
                "",
                "r2_train = r2_score(y_train, y_pred_train)",
                "r2_test = r2_score(y_test, y_pred_test)"
            ]
        },
        {
            "cell_type": "code",
            "metadata": {
                "id": "0d9c79f1",
                "language": "python"
            },
            "source": [
                "print(f\"Training MAE: {mae_train:.2f}, Testing MAE: {mae_test:.2f}\")",
                "print(f\"Training MSE: {mse_train:.2f}, Testing MSE: {mse_test:.2f}\")",
                "print(f\"Training R-squared: {r2_train:.2f}, Testing R-squared: {r2_test:.2f}\")"
            ]
        },
        {
            "cell_type": "code",
            "metadata": {
                "id": "554257cd",
                "language": "python"
            },
            "source": [
                "RFE_CV = RFECV(estimator=model, min_features_to_select=1, cv=10)"
            ]
        },
        {
            "cell_type": "code",
            "metadata": {
                "id": "c7129283",
                "language": "python"
            },
            "source": [
                "results = RFE_CV.fit(independent, dependent)"
            ]
        },
        {
            "cell_type": "code",
            "metadata": {
                "id": "f91a2c8a",
                "language": "python"
            },
            "source": [
                "results.support_"
            ]
        },
        {
            "cell_type": "code",
            "metadata": {
                "id": "46acb0dc",
                "language": "python"
            },
            "source": [
                "selected_columns = independent.columns[results.support_]"
            ]
        },
        {
            "cell_type": "code",
            "metadata": {
                "id": "28be9e39",
                "language": "python"
            },
            "source": [
                "selected_columns"
            ]
        },
        {
            "cell_type": "code",
            "metadata": {
                "id": "2a642760",
                "language": "python"
            },
            "source": [
                "parameters = {\"alpha\" : [0.001, 0.01, 0.1, 1, 10, 100, 1000]}"
            ]
        },
        {
            "cell_type": "code",
            "metadata": {
                "id": "3faf8204",
                "language": "python"
            },
            "source": [
                "lasso_model = Lasso()"
            ]
        },
        {
            "cell_type": "code",
            "metadata": {
                "id": "f52b3aa7",
                "language": "python"
            },
            "source": [
                "ridge_model = Ridge()"
            ]
        },
        {
            "cell_type": "code",
            "metadata": {
                "id": "3ac578e8",
                "language": "python"
            },
            "source": [
                "grid_search_lasso = GridSearchCV(estimator=lasso_model, param_grid=parameters, cv = 10)",
                "best_grid_param_lasso = grid_search_lasso.fit(independent, dependent)",
                "print(\"Best parameters for Lasso (Grid search): \",best_grid_param_lasso.best_params_)",
                "",
                "grid_search_ridge = GridSearchCV(estimator=ridge_model, param_grid=parameters, cv = 10)",
                "best_grid_param_ridge = grid_search_ridge.fit(independent, dependent)",
                "print(\"Best parameters for Lasso (Grid search): \",best_grid_param_ridge.best_params_)"
            ]
        },
        {
            "cell_type": "code",
            "metadata": {
                "id": "fc9391f8",
                "language": "python"
            },
            "source": [
                "random_search_lasso = RandomizedSearchCV(estimator=lasso_model, param_distributions=parameters, cv=10, n_iter=7)",
                "best_params_lasso = random_search_lasso.fit(independent, dependent)",
                "print(\"Best parameters for Lasso (Random search): \", best_params_lasso.best_params_)",
                "",
                "random_search_ridge = RandomizedSearchCV(estimator=ridge_model, param_distributions=parameters, cv=10, n_iter=7)",
                "best_params_ridge = random_search_ridge.fit(independent, dependent)",
                "print(\"Best parameters for Ridge (Random search): \", best_params_ridge.best_params_)",
                ""
            ]
        },
        {
            "cell_type": "code",
            "metadata": {
                "id": "06a73be3",
                "language": "python"
            },
            "source": [
                "lasso = Lasso(alpha = 0.001)"
            ]
        },
        {
            "cell_type": "code",
            "metadata": {
                "id": "35e27112",
                "language": "python"
            },
            "source": [
                "ridge = Ridge(alpha = 1)"
            ]
        },
        {
            "cell_type": "code",
            "metadata": {
                "id": "c42e4f24",
                "language": "python"
            },
            "source": [
                "lasso.fit(x_train, y_train)"
            ]
        },
        {
            "cell_type": "code",
            "metadata": {
                "id": "fe21414a",
                "language": "python"
            },
            "source": [
                "ridge.fit(x_train, y_train)"
            ]
        },
        {
            "cell_type": "code",
            "metadata": {
                "id": "cb814812",
                "language": "python"
            },
            "source": [
                "y_pred_ridge = ridge.predict(x_test)",
                "mse_ridge = mean_squared_error(y_test, y_pred_ridge)",
                "print(f\"Ridge Regression Mean Squared Error: {mse_ridge:.2f}\")"
            ]
        },
        {
            "cell_type": "code",
            "metadata": {
                "id": "5f029a26",
                "language": "python"
            },
            "source": [
                "y_pred_lasso = lasso.predict(x_test)",
                "mse_lasso = mean_squared_error(y_test, y_pred_lasso)",
                "print(f\"Lasso Regression Mean Squared Error: {mse_lasso:.2f}\")"
            ]
        },
        {
            "cell_type": "code",
            "metadata": {
                "id": "816cba57",
                "language": "python"
            },
            "source": [
                "scores_1 = cross_val_score(model, independent, dependent,  cv= 5 , scoring='neg_mean_squared_error')",
                "",
                "mse_scores = -scores_1",
                "",
                "print(\"Cross-Validation Scores (MSE):\", mse_scores)",
                "print(\"Average Cross-Validation MSE:\", mse_scores.mean())"
            ]
        },
        {
            "cell_type": "code",
            "metadata": {
                "id": "66b897f3",
                "language": "python"
            },
            "source": [
                "scores_1 = cross_val_score(ridge, independent, dependent,  cv= 5 , scoring='neg_mean_squared_error')",
                "",
                "mse_scores = -scores_1",
                "",
                "print(\"Cross-Validation Scores (MSE):\", mse_scores)",
                "print(\"Average Cross-Validation MSE:\", mse_scores.mean())"
            ]
        },
        {
            "cell_type": "code",
            "metadata": {
                "id": "a60a1db3",
                "language": "python"
            },
            "source": [
                "scores_lasso = cross_val_score(lasso, independent, dependent,  cv= 5 , scoring='neg_mean_squared_error')",
                "",
                "mse_scores = -scores_1",
                "",
                "print(\"Cross-Validation Scores (MSE):\", mse_scores)",
                "print(\"Average Cross-Validation MSE:\", mse_scores.mean())"
            ]
        },
        {
            "cell_type": "code",
            "metadata": {
                "id": "97d5e6cc",
                "language": "python"
            },
            "source": [
                "independent.columns"
            ]
        },
        {
            "cell_type": "code",
            "metadata": {
                "id": "e060c519",
                "language": "python"
            },
            "source": [
                "new_student_sample_data = np.array([2, 90, 8, 1, False]).reshape(1, 5)"
            ]
        },
        {
            "cell_type": "code",
            "metadata": {
                "id": "3486811d",
                "language": "python"
            },
            "source": [
                "prediction = model.predict(new_student_sample_data)",
                "prediction_lasso = lasso.predict(new_student_sample_data)",
                "prediction_ridge = ridge.predict(new_student_sample_data)"
            ]
        },
        {
            "cell_type": "code",
            "metadata": {
                "id": "54ba04d7",
                "language": "python"
            },
            "source": [
                "print(\"Student score :\",prediction)",
                "print(\"Student score _Lasso:\",prediction_lasso)",
                "print(\"Student score_Ridge :\",prediction_ridge)"
            ]
        },
        {
            "cell_type": "code",
            "metadata": {
                "id": "334ddaba",
                "language": "python"
            },
            "source": [
                ""
            ]
        }
    ],
    "metadata": {
        "kernelspec": {
            "display_name": "Python 3",
            "language": "python",
            "name": "python3"
        },
        "language_info": {
            "codemirror_mode": {
                "name": "ipython",
                "version": 3
            },
            "file_extension": ".py",
            "mimetype": "text/x-python",
            "name": "python",
            "nbconvert_exporter": "python",
            "pygments_lexer": "ipython3",
            "version": "3.8.5"
        }
    },
    "nbformat": 4,
    "nbformat_minor": 4
}