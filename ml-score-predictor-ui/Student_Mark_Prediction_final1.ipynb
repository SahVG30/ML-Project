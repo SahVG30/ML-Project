{
    "cells": [
        {
            "cell_type": "code",
            "execution_count": null,
            "metadata": {
                "id": "afd21c4d",
                "language": "python"
            },
            "outputs": [],
            "source": [
                "import numpy as np\n",
                "import pandas as pd\n",
                "import matplotlib.pyplot as plt\n",
                "import seaborn as sns\n",
                "from sklearn.linear_model import LinearRegression, Ridge, Lasso\n",
                "from sklearn.model_selection import train_test_split, GridSearchCV, RandomizedSearchCV, cross_val_score\n",
                "from sklearn.metrics import mean_squared_error\n",
                "from sklearn.metrics import r2_score\n",
                "from sklearn.metrics import mean_absolute_error\n",
                "from sklearn.feature_selection import RFECV\n"
            ]
        },
        {
            "cell_type": "code",
            "execution_count": null,
            "metadata": {
                "id": "41c43f82",
                "language": "python"
            },
            "outputs": [],
            "source": [
                "data = pd.read_csv(\"/Student_Performance.csv\")"
            ]
        },
        {
            "cell_type": "code",
            "execution_count": null,
            "metadata": {
                "id": "83785f97",
                "language": "python"
            },
            "outputs": [],
            "source": [
                "data.head()"
            ]
        },
        {
            "cell_type": "code",
            "execution_count": null,
            "metadata": {
                "id": "f730303e",
                "language": "python"
            },
            "outputs": [],
            "source": [
                "data.head()"
            ]
        },
        {
            "cell_type": "code",
            "execution_count": null,
            "metadata": {
                "id": "86510d08",
                "language": "python"
            },
            "outputs": [],
            "source": [
                "new_data = pd.get_dummies(data, drop_first=True)"
            ]
        },
        {
            "cell_type": "code",
            "execution_count": null,
            "metadata": {
                "id": "7a5b2536",
                "language": "python"
            },
            "outputs": [],
            "source": [
                "new_data.head()"
            ]
        },
        {
            "cell_type": "code",
            "execution_count": null,
            "metadata": {
                "id": "6c471c3c",
                "language": "python"
            },
            "outputs": [],
            "source": [
                "data.isnull().sum()"
            ]
        },
        {
            "cell_type": "code",
            "execution_count": null,
            "metadata": {
                "id": "c9d607c0",
                "language": "python"
            },
            "outputs": [],
            "source": [
                "new_data.fillna(new_data.mean(), inplace=True)"
            ]
        },
        {
            "cell_type": "code",
            "execution_count": null,
            "metadata": {
                "id": "e72c3df8",
                "language": "python"
            },
            "outputs": [],
            "source": [
                "new_data.head()"
            ]
        },
        {
            "cell_type": "code",
            "execution_count": null,
            "metadata": {
                "id": "f0679415",
                "language": "python"
            },
            "outputs": [],
            "source": [
                "print(\"Duplicate row count : \",new_data.duplicated().sum())"
            ]
        },
        {
            "cell_type": "code",
            "execution_count": null,
            "metadata": {
                "id": "bb3351d8",
                "language": "python"
            },
            "outputs": [],
            "source": [
                "new_data.drop_duplicates(inplace=True)"
            ]
        },
        {
            "cell_type": "code",
            "execution_count": null,
            "metadata": {
                "id": "7a99bec8",
                "language": "python"
            },
            "outputs": [],
            "source": [
                "print(\"Duplicate row count : \",new_data.duplicated().sum())"
            ]
        },
        {
            "cell_type": "code",
            "execution_count": null,
            "metadata": {
                "id": "50e37b2f",
                "language": "python"
            },
            "outputs": [],
            "source": [
                "new_data.columns = [\"Study Hours\", \"Previous Score\", \"Sleep Hours\", \"Practiced Sample Paper Count\", \"Score\", \"Extracurricular Activities\"]"
            ]
        },
        {
            "cell_type": "code",
            "execution_count": null,
            "metadata": {
                "id": "814c3def",
                "language": "python"
            },
            "outputs": [],
            "source": [
                "independent = new_data.drop(\"Score\", axis=1)\n",
                "dependent = new_data.iloc[:, 4]"
            ]
        },
        {
            "cell_type": "code",
            "execution_count": null,
            "metadata": {
                "id": "a46000c7",
                "language": "python"
            },
            "outputs": [],
            "source": [
                "independent.head()"
            ]
        },
        {
            "cell_type": "code",
            "execution_count": null,
            "metadata": {
                "id": "f02a73ef",
                "language": "python"
            },
            "outputs": [],
            "source": [
                "dependent.head()"
            ]
        },
        {
            "cell_type": "code",
            "execution_count": null,
            "metadata": {
                "id": "24370380",
                "language": "python"
            },
            "outputs": [],
            "source": [
                "new_data.describe()"
            ]
        },
        {
            "cell_type": "code",
            "execution_count": null,
            "metadata": {
                "id": "4aa6019d",
                "language": "python"
            },
            "outputs": [],
            "source": [
                "for columns in independent.columns:\n",
                "    plt.figure(figsize=(17,10))\n",
                "    sns.scatterplot(x = columns, y = dependent, data = new_data, hue = \"Previous Score\")\n",
                "    plt.title(f'Box plot of {columns} by score')\n",
                "    plt.xlabel(columns)\n",
                "\n",
                "    plt.ylabel(\"Score\")\n",
                "    plt.show()"
            ]
        },
        {
            "cell_type": "code",
            "execution_count": null,
            "metadata": {
                "id": "e013c080",
                "language": "python"
            },
            "outputs": [],
            "source": [
                "plt.hist(dependent, bins=10)\n",
                "plt.xlabel(\"Score\")\n",
                "plt.ylabel(\"Count\")\n",
                "plt.show()"
            ]
        },
        {
            "cell_type": "code",
            "execution_count": null,
            "metadata": {
                "id": "f1dfb199",
                "language": "python"
            },
            "outputs": [],
            "source": []
        },
        {
            "cell_type": "code",
            "execution_count": null,
            "metadata": {
                "id": "6abbb6dc",
                "language": "python"
            },
            "outputs": [],
            "source": [
                "x_train, x_test, y_train, y_test = train_test_split(independent, dependent, test_size=0.2, random_state=0)"
            ]
        },
        {
            "cell_type": "code",
            "execution_count": null,
            "metadata": {
                "id": "4fd2839a",
                "language": "python"
            },
            "outputs": [],
            "source": [
                "model = LinearRegression()"
            ]
        },
        {
            "cell_type": "code",
            "execution_count": null,
            "metadata": {
                "id": "8b4b7512",
                "language": "python"
            },
            "outputs": [],
            "source": [
                "model.fit(x_train, y_train)"
            ]
        },
        {
            "cell_type": "code",
            "execution_count": null,
            "metadata": {
                "id": "185427bd",
                "language": "python"
            },
            "outputs": [],
            "source": [
                "y_pred_train = model.predict(x_train)\n",
                "y_pred_test = model.predict(x_test)"
            ]
        },
        {
            "cell_type": "code",
            "execution_count": null,
            "metadata": {
                "id": "aa37a5ce",
                "language": "python"
            },
            "outputs": [],
            "source": [
                "mae_train = mean_absolute_error(y_train, y_pred_train)\n",
                "mae_test = mean_absolute_error(y_test, y_pred_test)\n",
                "\n",
                "mse_train = mean_squared_error(y_train, y_pred_train)\n",
                "mse_test = mean_squared_error(y_test, y_pred_test)\n",
                "\n",
                "r2_train = r2_score(y_train, y_pred_train)\n",
                "r2_test = r2_score(y_test, y_pred_test)"
            ]
        },
        {
            "cell_type": "code",
            "execution_count": null,
            "metadata": {
                "id": "0d9c79f1",
                "language": "python"
            },
            "outputs": [],
            "source": [
                "print(f\"Training MAE: {mae_train:.2f}, Testing MAE: {mae_test:.2f}\")\n",
                "print(f\"Training MSE: {mse_train:.2f}, Testing MSE: {mse_test:.2f}\")\n",
                "print(f\"Training R-squared: {r2_train:.2f}, Testing R-squared: {r2_test:.2f}\")"
            ]
        },
        {
            "cell_type": "code",
            "execution_count": null,
            "metadata": {
                "id": "554257cd",
                "language": "python"
            },
            "outputs": [],
            "source": [
                "RFE_CV = RFECV(estimator=model, min_features_to_select=1, cv=10)"
            ]
        },
        {
            "cell_type": "code",
            "execution_count": null,
            "metadata": {
                "id": "c7129283",
                "language": "python"
            },
            "outputs": [],
            "source": [
                "results = RFE_CV.fit(independent, dependent)"
            ]
        },
        {
            "cell_type": "code",
            "execution_count": null,
            "metadata": {
                "id": "f91a2c8a",
                "language": "python"
            },
            "outputs": [],
            "source": [
                "results.support_"
            ]
        },
        {
            "cell_type": "code",
            "execution_count": null,
            "metadata": {
                "id": "46acb0dc",
                "language": "python"
            },
            "outputs": [],
            "source": [
                "selected_columns = independent.columns[results.support_]"
            ]
        },
        {
            "cell_type": "code",
            "execution_count": null,
            "metadata": {
                "id": "28be9e39",
                "language": "python"
            },
            "outputs": [],
            "source": [
                "selected_columns"
            ]
        },
        {
            "cell_type": "code",
            "execution_count": null,
            "metadata": {
                "id": "2a642760",
                "language": "python"
            },
            "outputs": [],
            "source": [
                "parameters = {\"alpha\" : [0.001, 0.01, 0.1, 1, 10, 100, 1000]}"
            ]
        },
        {
            "cell_type": "code",
            "execution_count": null,
            "metadata": {
                "id": "3faf8204",
                "language": "python"
            },
            "outputs": [],
            "source": [
                "lasso_model = Lasso()"
            ]
        },
        {
            "cell_type": "code",
            "execution_count": null,
            "metadata": {
                "id": "f52b3aa7",
                "language": "python"
            },
            "outputs": [],
            "source": [
                "ridge_model = Ridge()"
            ]
        },
        {
            "cell_type": "code",
            "execution_count": null,
            "metadata": {
                "id": "3ac578e8",
                "language": "python"
            },
            "outputs": [],
            "source": [
                "grid_search_lasso = GridSearchCV(estimator=lasso_model, param_grid=parameters, cv = 10)\n",
                "best_grid_param_lasso = grid_search_lasso.fit(independent, dependent)\n",
                "print(\"Best parameters for Lasso (Grid search): \",best_grid_param_lasso.best_params_)\n",
                "\n",
                "grid_search_ridge = GridSearchCV(estimator=ridge_model, param_grid=parameters, cv = 10)\n",
                "best_grid_param_ridge = grid_search_ridge.fit(independent, dependent)\n",
                "print(\"Best parameters for Lasso (Grid search): \",best_grid_param_ridge.best_params_)"
            ]
        },
        {
            "cell_type": "code",
            "execution_count": null,
            "metadata": {
                "id": "fc9391f8",
                "language": "python"
            },
            "outputs": [],
            "source": [
                "random_search_lasso = RandomizedSearchCV(estimator=lasso_model, param_distributions=parameters, cv=10, n_iter=7)\n",
                "best_params_lasso = random_search_lasso.fit(independent, dependent)\n",
                "print(\"Best parameters for Lasso (Random search): \", best_params_lasso.best_params_)\n",
                "\n",
                "random_search_ridge = RandomizedSearchCV(estimator=ridge_model, param_distributions=parameters, cv=10, n_iter=7)\n",
                "best_params_ridge = random_search_ridge.fit(independent, dependent)\n",
                "print(\"Best parameters for Ridge (Random search): \", best_params_ridge.best_params_)\n"
            ]
        },
        {
            "cell_type": "code",
            "execution_count": null,
            "metadata": {
                "id": "06a73be3",
                "language": "python"
            },
            "outputs": [],
            "source": [
                "lasso = Lasso(alpha = 0.001)"
            ]
        },
        {
            "cell_type": "code",
            "execution_count": null,
            "metadata": {
                "id": "35e27112",
                "language": "python"
            },
            "outputs": [],
            "source": [
                "ridge = Ridge(alpha = 1)"
            ]
        },
        {
            "cell_type": "code",
            "execution_count": null,
            "metadata": {
                "id": "c42e4f24",
                "language": "python"
            },
            "outputs": [],
            "source": [
                "lasso.fit(x_train, y_train)"
            ]
        },
        {
            "cell_type": "code",
            "execution_count": null,
            "metadata": {
                "id": "fe21414a",
                "language": "python"
            },
            "outputs": [],
            "source": [
                "ridge.fit(x_train, y_train)"
            ]
        },
        {
            "cell_type": "code",
            "execution_count": null,
            "metadata": {
                "id": "cb814812",
                "language": "python"
            },
            "outputs": [],
            "source": [
                "y_pred_ridge = ridge.predict(x_test)\n",
                "mse_ridge = mean_squared_error(y_test, y_pred_ridge)\n",
                "print(f\"Ridge Regression Mean Squared Error: {mse_ridge:.2f}\")"
            ]
        },
        {
            "cell_type": "code",
            "execution_count": null,
            "metadata": {
                "id": "5f029a26",
                "language": "python"
            },
            "outputs": [],
            "source": [
                "y_pred_lasso = lasso.predict(x_test)\n",
                "mse_lasso = mean_squared_error(y_test, y_pred_lasso)\n",
                "print(f\"Lasso Regression Mean Squared Error: {mse_lasso:.2f}\")"
            ]
        },
        {
            "cell_type": "code",
            "execution_count": null,
            "metadata": {
                "id": "816cba57",
                "language": "python"
            },
            "outputs": [],
            "source": [
                "scores_1 = cross_val_score(model, independent, dependent,  cv= 5 , scoring='neg_mean_squared_error')\n",
                "\n",
                "mse_scores = -scores_1\n",
                "\n",
                "print(\"Cross-Validation Scores (MSE):\", mse_scores)\n",
                "print(\"Average Cross-Validation MSE:\", mse_scores.mean())"
            ]
        },
        {
            "cell_type": "code",
            "execution_count": null,
            "metadata": {
                "id": "66b897f3",
                "language": "python"
            },
            "outputs": [],
            "source": [
                "scores_1 = cross_val_score(ridge, independent, dependent,  cv= 5 , scoring='neg_mean_squared_error')\n",
                "\n",
                "mse_scores = -scores_1\n",
                "\n",
                "print(\"Cross-Validation Scores (MSE):\", mse_scores)\n",
                "print(\"Average Cross-Validation MSE:\", mse_scores.mean())"
            ]
        },
        {
            "cell_type": "code",
            "execution_count": null,
            "metadata": {
                "id": "a60a1db3",
                "language": "python"
            },
            "outputs": [],
            "source": [
                "scores_lasso = cross_val_score(lasso, independent, dependent,  cv= 5 , scoring='neg_mean_squared_error')\n",
                "\n",
                "mse_scores = -scores_1\n",
                "\n",
                "print(\"Cross-Validation Scores (MSE):\", mse_scores)\n",
                "print(\"Average Cross-Validation MSE:\", mse_scores.mean())"
            ]
        },
        {
            "cell_type": "code",
            "execution_count": null,
            "metadata": {
                "id": "97d5e6cc",
                "language": "python"
            },
            "outputs": [],
            "source": [
                "independent.columns"
            ]
        },
        {
            "cell_type": "code",
            "execution_count": null,
            "metadata": {
                "id": "e060c519",
                "language": "python"
            },
            "outputs": [],
            "source": [
                "new_student_sample_data = np.array([2, 90, 8, 1, False]).reshape(1, 5)"
            ]
        },
        {
            "cell_type": "code",
            "execution_count": null,
            "metadata": {
                "id": "3486811d",
                "language": "python"
            },
            "outputs": [],
            "source": [
                "prediction = model.predict(new_student_sample_data)\n",
                "prediction_lasso = lasso.predict(new_student_sample_data)\n",
                "prediction_ridge = ridge.predict(new_student_sample_data)"
            ]
        },
        {
            "cell_type": "code",
            "execution_count": null,
            "metadata": {
                "id": "54ba04d7",
                "language": "python"
            },
            "outputs": [],
            "source": [
                "print(\"Student score :\",prediction)\n",
                "print(\"Student score _Lasso:\",prediction_lasso)\n",
                "print(\"Student score_Ridge :\",prediction_ridge)"
            ]
        },
        {
            "cell_type": "code",
            "execution_count": null,
            "metadata": {
                "id": "334ddaba",
                "language": "python"
            },
            "outputs": [],
            "source": []
        }
    ],
    "metadata": {
        "kernelspec": {
            "display_name": "Python 3",
            "language": "python",
            "name": "python3"
        },
        "language_info": {
            "codemirror_mode": {
                "name": "ipython",
                "version": 3
            },
            "file_extension": ".py",
            "mimetype": "text/x-python",
            "name": "python",
            "nbconvert_exporter": "python",
            "pygments_lexer": "ipython3",
            "version": "3.8.5"
        }
    },
    "nbformat": 4,
    "nbformat_minor": 4
}
